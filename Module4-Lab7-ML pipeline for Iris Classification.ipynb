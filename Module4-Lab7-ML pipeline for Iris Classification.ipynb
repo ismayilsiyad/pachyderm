{
 "cells": [
  {
   "cell_type": "markdown",
   "id": "9ad14fc9-21d3-4953-86c9-5165d94154b9",
   "metadata": {},
   "source": [
    "# ML pipeline for Iris Classification"
   ]
  },
  {
   "cell_type": "markdown",
   "id": "3a5deef2-b667-4d55-a518-2cc490dd8524",
   "metadata": {},
   "source": [
    "Before executing the lab open terminal from jupyter home and execute \"pachctl delete all\" and when prompted type \"y\" and enter"
   ]
  },
  {
   "cell_type": "markdown",
   "id": "6e4df76b-de3c-4a50-8559-94e4b8db532f",
   "metadata": {},
   "source": [
    "We can create a new repos called training and attributes"
   ]
  },
  {
   "cell_type": "code",
   "execution_count": 4,
   "id": "169f1907",
   "metadata": {},
   "outputs": [
    {
     "name": "stdout",
     "output_type": "stream",
     "text": [
      "2023-10-19T10:37:50.908Z\t\u001b[31mERROR\u001b[0m\tclient/client.go:667\tWARNING: The client used to connect to Pachyderm is much older than the server; please upgrade the client.\n"
     ]
    }
   ],
   "source": [
    "!pachctl create repo training"
   ]
  },
  {
   "cell_type": "code",
   "execution_count": 5,
   "id": "05faa30b",
   "metadata": {},
   "outputs": [
    {
     "name": "stdout",
     "output_type": "stream",
     "text": [
      "2023-10-19T10:37:56.684Z\t\u001b[31mERROR\u001b[0m\tclient/client.go:667\tWARNING: The client used to connect to Pachyderm is much older than the server; please upgrade the client.\n"
     ]
    }
   ],
   "source": [
    "!pachctl create repo attributes"
   ]
  },
  {
   "cell_type": "code",
   "execution_count": 6,
   "id": "71d85d54",
   "metadata": {},
   "outputs": [
    {
     "name": "stdout",
     "output_type": "stream",
     "text": [
      "2023-10-19T10:37:59.969Z\t\u001b[31mERROR\u001b[0m\tclient/client.go:667\tWARNING: The client used to connect to Pachyderm is much older than the server; please upgrade the client.\n",
      "PROJECT NAME       CREATED       SIZE (MASTER) DESCRIPTION \n",
      "default attributes 3 seconds ago ≤ 0B                      \n",
      "default training   9 seconds ago ≤ 0B                      \n"
     ]
    }
   ],
   "source": [
    "!pachctl list repo"
   ]
  },
  {
   "cell_type": "markdown",
   "id": "84a9a7e1-fc33-411c-a6b8-2e40323decc0",
   "metadata": {},
   "source": [
    "Now into the repo training lets put the dataset iris.csv"
   ]
  },
  {
   "cell_type": "code",
   "execution_count": 7,
   "id": "1f715adf",
   "metadata": {},
   "outputs": [
    {
     "name": "stdout",
     "output_type": "stream",
     "text": [
      "2023-10-19T10:38:54.196Z\t\u001b[31mERROR\u001b[0m\tclient/client.go:667\tWARNING: The client used to connect to Pachyderm is much older than the server; please upgrade the client.\n",
      "data/iris.csv 4.55 KB / 4.55 KB [==================================] 0s 0.00 b/s\n",
      "\u001b[1A\u001b[Jdata/iris.csv 4.55 KB / 4.55 KB [==================================] 0s 0.00 b/s\n",
      "\u001b[1A\u001b[Jdata/iris.csv 4.55 KB / 4.55 KB [==================================] 0s 0.00 b/s\n"
     ]
    }
   ],
   "source": [
    "!pachctl put file training@master -f data/iris.csv"
   ]
  },
  {
   "cell_type": "code",
   "execution_count": 8,
   "id": "9b8d1b71",
   "metadata": {},
   "outputs": [
    {
     "name": "stdout",
     "output_type": "stream",
     "text": [
      "2023-10-19T10:38:59.301Z\t\u001b[31mERROR\u001b[0m\tclient/client.go:667\tWARNING: The client used to connect to Pachyderm is much older than the server; please upgrade the client.\n",
      "PROJECT NAME       CREATED            SIZE (MASTER) DESCRIPTION \n",
      "default attributes About a minute ago ≤ 0B                      \n",
      "default training   About a minute ago ≤ 4.444KiB                \n"
     ]
    }
   ],
   "source": [
    "!pachctl list repo"
   ]
  },
  {
   "cell_type": "code",
   "execution_count": 9,
   "id": "00747ae4",
   "metadata": {},
   "outputs": [
    {
     "name": "stdout",
     "output_type": "stream",
     "text": [
      "2023-10-19T10:39:07.032Z\t\u001b[31mERROR\u001b[0m\tclient/client.go:667\tWARNING: The client used to connect to Pachyderm is much older than the server; please upgrade the client.\n",
      "NAME      TYPE SIZE     \n",
      "/iris.csv file 4.444KiB \n"
     ]
    }
   ],
   "source": [
    "!pachctl list file training@master"
   ]
  },
  {
   "cell_type": "markdown",
   "id": "7e9dd65a-45ec-42c7-9e84-b0b12154e0aa",
   "metadata": {},
   "source": [
    "Now lets create a training pipeline with pachydem using the definintion python_train.json"
   ]
  },
  {
   "cell_type": "code",
   "execution_count": 10,
   "id": "d249c39e",
   "metadata": {},
   "outputs": [
    {
     "name": "stdout",
     "output_type": "stream",
     "text": [
      "2023-10-19T10:41:43.627Z\t\u001b[31mERROR\u001b[0m\tclient/client.go:667\tWARNING: The client used to connect to Pachyderm is much older than the server; please upgrade the client.\n"
     ]
    }
   ],
   "source": [
    "!pachctl create pipeline -f python_train.json"
   ]
  },
  {
   "cell_type": "code",
   "execution_count": 15,
   "id": "c39daa5a",
   "metadata": {},
   "outputs": [
    {
     "name": "stdout",
     "output_type": "stream",
     "text": [
      "2023-10-19T10:42:03.556Z\t\u001b[31mERROR\u001b[0m\tclient/client.go:667\tWARNING: The client used to connect to Pachyderm is much older than the server; please upgrade the client.\n",
      "ID                               SUBJOBS PROGRESS CREATED        MODIFIED\n",
      "c4cebf4a1bcb417e96d4dd518aded4aa 1       \u001b[32m▇\u001b[0m\u001b[32m▇\u001b[0m\u001b[32m▇\u001b[0m\u001b[32m▇\u001b[0m\u001b[32m▇\u001b[0m\u001b[32m▇\u001b[0m\u001b[32m▇\u001b[0m\u001b[32m▇\u001b[0m 19 seconds ago 19 seconds ago \n"
     ]
    }
   ],
   "source": [
    "!pachctl list job"
   ]
  },
  {
   "cell_type": "markdown",
   "id": "99a1ccdc-b3f6-4bf3-967f-ea9b02ea9a62",
   "metadata": {},
   "source": [
    "After training job executed the model file is available "
   ]
  },
  {
   "cell_type": "code",
   "execution_count": 16,
   "id": "44a70c00",
   "metadata": {},
   "outputs": [
    {
     "name": "stdout",
     "output_type": "stream",
     "text": [
      "2023-10-19T10:42:07.300Z\t\u001b[31mERROR\u001b[0m\tclient/client.go:667\tWARNING: The client used to connect to Pachyderm is much older than the server; please upgrade the client.\n",
      "NAME       TYPE SIZE     \n",
      "/model.pkl file 3.448KiB \n",
      "/model.txt file 226B     \n"
     ]
    }
   ],
   "source": [
    "!pachctl list file model@master"
   ]
  },
  {
   "cell_type": "markdown",
   "id": "7faaf379-3822-4f70-9eb9-f25552ee9c36",
   "metadata": {},
   "source": [
    "Now lets upload test data"
   ]
  },
  {
   "cell_type": "code",
   "execution_count": 17,
   "id": "2322957c",
   "metadata": {},
   "outputs": [
    {
     "name": "stdout",
     "output_type": "stream",
     "text": [
      "2023-10-19T10:45:28.220Z\t\u001b[31mERROR\u001b[0m\tclient/client.go:667\tWARNING: The client used to connect to Pachyderm is much older than the server; please upgrade the client.\n",
      "data/test/1.csv 16.00 b / 16.00 b [================================] 0s 0.00 b/s\n",
      "\u001b[1A\u001b[Jdata/test/1.csv 16.00 b / 16.00 b [================================] 0s 0.00 b/s\n",
      "\u001b[1A\u001b[Jdata/test/1.csv 16.00 b / 16.00 b [================================] 0s 0.00 b/s\n",
      "\u001b[1A\u001b[Jdata/test/1.csv 16.00 b / 16.00 b [================================] 0s 0.00 b/s\n",
      "data/test/2.csv 96.00 b / 96.00 b [================================] 0s 0.00 b/s\n",
      "\u001b[2A\u001b[Jdata/test/1.csv 16.00 b / 16.00 b [================================] 0s 0.00 b/s\n",
      "data/test/2.csv 96.00 b / 96.00 b [================================] 0s 0.00 b/s\n",
      "\u001b[2A\u001b[Jdata/test/1.csv 16.00 b / 16.00 b [================================] 0s 0.00 b/s\n",
      "data/test/2.csv 96.00 b / 96.00 b [================================] 0s 0.00 b/s\n"
     ]
    }
   ],
   "source": [
    "!pachctl put file -r attributes@master -f data/test"
   ]
  },
  {
   "cell_type": "code",
   "execution_count": 18,
   "id": "00620af0",
   "metadata": {},
   "outputs": [
    {
     "name": "stdout",
     "output_type": "stream",
     "text": [
      "2023-10-19T10:45:32.738Z\t\u001b[31mERROR\u001b[0m\tclient/client.go:667\tWARNING: The client used to connect to Pachyderm is much older than the server; please upgrade the client.\n",
      "NAME   TYPE SIZE \n",
      "/test/ dir  112B \n"
     ]
    }
   ],
   "source": [
    "!pachctl list file attributes@master"
   ]
  },
  {
   "cell_type": "markdown",
   "id": "e141ff91-359b-4271-a504-bb6486be9b50",
   "metadata": {},
   "source": [
    "With this test data we are executing the inference pipeline. Which will take the input and do the prediction"
   ]
  },
  {
   "cell_type": "code",
   "execution_count": 19,
   "id": "96611a0b",
   "metadata": {},
   "outputs": [
    {
     "name": "stdout",
     "output_type": "stream",
     "text": [
      "2023-10-19T10:45:35.064Z\t\u001b[31mERROR\u001b[0m\tclient/client.go:667\tWARNING: The client used to connect to Pachyderm is much older than the server; please upgrade the client.\n"
     ]
    }
   ],
   "source": [
    "!pachctl create pipeline -f python_infer.json"
   ]
  },
  {
   "cell_type": "code",
   "execution_count": 23,
   "id": "0c0d5213",
   "metadata": {},
   "outputs": [
    {
     "name": "stdout",
     "output_type": "stream",
     "text": [
      "2023-10-19T10:45:48.031Z\t\u001b[31mERROR\u001b[0m\tclient/client.go:667\tWARNING: The client used to connect to Pachyderm is much older than the server; please upgrade the client.\n",
      "ID                               SUBJOBS PROGRESS CREATED        MODIFIED\n",
      "572e177fa6f34a0283d0c99a7c27b4c0 1       \u001b[32m▇\u001b[0m\u001b[32m▇\u001b[0m\u001b[32m▇\u001b[0m\u001b[32m▇\u001b[0m\u001b[32m▇\u001b[0m\u001b[32m▇\u001b[0m\u001b[32m▇\u001b[0m\u001b[32m▇\u001b[0m 12 seconds ago 12 seconds ago \n",
      "c4cebf4a1bcb417e96d4dd518aded4aa 1       \u001b[32m▇\u001b[0m\u001b[32m▇\u001b[0m\u001b[32m▇\u001b[0m\u001b[32m▇\u001b[0m\u001b[32m▇\u001b[0m\u001b[32m▇\u001b[0m\u001b[32m▇\u001b[0m\u001b[32m▇\u001b[0m 4 minutes ago  4 minutes ago  \n"
     ]
    }
   ],
   "source": [
    "!pachctl list job"
   ]
  },
  {
   "cell_type": "code",
   "execution_count": 24,
   "id": "0cb8d447",
   "metadata": {},
   "outputs": [
    {
     "name": "stdout",
     "output_type": "stream",
     "text": [
      "2023-10-19T10:45:51.612Z\t\u001b[31mERROR\u001b[0m\tclient/client.go:667\tWARNING: The client used to connect to Pachyderm is much older than the server; please upgrade the client.\n",
      "PROJECT NAME      VERSION INPUT                                     CREATED        STATE / LAST JOB  DESCRIPTION                                                                                               \n",
      "default inference 1       (default/attributes:/* ⨯ default/model:/) 16 seconds ago \u001b[32mrunning\u001b[0m / \u001b[32msuccess\u001b[0m An inference pipeline that makes a prediction based on the trained model by using a Python script.        \n",
      "default model     1       default/training:/                        4 minutes ago  \u001b[32mrunning\u001b[0m / \u001b[32msuccess\u001b[0m A pipeline that trains the model based on the data in the `training` repository by using a Python script. \n"
     ]
    }
   ],
   "source": [
    "!pachctl list pipeline"
   ]
  },
  {
   "cell_type": "code",
   "execution_count": 25,
   "id": "c068cd9c",
   "metadata": {},
   "outputs": [
    {
     "name": "stdout",
     "output_type": "stream",
     "text": [
      "2023-10-19T10:45:58.992Z\t\u001b[31mERROR\u001b[0m\tclient/client.go:667\tWARNING: The client used to connect to Pachyderm is much older than the server; please upgrade the client.\n",
      "PROJECT NAME       CREATED        SIZE (MASTER) DESCRIPTION                                 \n",
      "default inference  23 seconds ago ≤ 100B        Output repo for pipeline default/inference. \n",
      "default model      4 minutes ago  ≤ 3.669KiB    Output repo for pipeline default/model.     \n",
      "default attributes 8 minutes ago  ≤ 112B                                                    \n",
      "default training   8 minutes ago  ≤ 4.444KiB                                                \n"
     ]
    }
   ],
   "source": [
    "!pachctl list repo"
   ]
  },
  {
   "cell_type": "code",
   "execution_count": null,
   "id": "36679ca8-71bf-49a9-ac4e-4ae042a4b12f",
   "metadata": {},
   "outputs": [],
   "source": [
    "The predi"
   ]
  },
  {
   "cell_type": "code",
   "execution_count": 26,
   "id": "adaf55e0",
   "metadata": {},
   "outputs": [
    {
     "name": "stdout",
     "output_type": "stream",
     "text": [
      "2023-10-19T10:46:04.597Z\t\u001b[31mERROR\u001b[0m\tclient/client.go:667\tWARNING: The client used to connect to Pachyderm is much older than the server; please upgrade the client.\n",
      "NAME TYPE SIZE \n",
      "/1   file 15B  \n",
      "/2   file 85B  \n"
     ]
    }
   ],
   "source": [
    "!pachctl list file inference@master"
   ]
  },
  {
   "cell_type": "code",
   "execution_count": 27,
   "id": "9f508e63",
   "metadata": {},
   "outputs": [
    {
     "name": "stdout",
     "output_type": "stream",
     "text": [
      "2023-10-19T10:46:08.822Z\t\u001b[31mERROR\u001b[0m\tclient/client.go:667\tWARNING: The client used to connect to Pachyderm is much older than the server; please upgrade the client.\n",
      "Iris-virginica\n"
     ]
    }
   ],
   "source": [
    "!pachctl get file inference@master:1"
   ]
  },
  {
   "cell_type": "code",
   "execution_count": 28,
   "id": "96902a5f",
   "metadata": {},
   "outputs": [
    {
     "name": "stdout",
     "output_type": "stream",
     "text": [
      "2023-10-19T10:46:13.414Z\t\u001b[31mERROR\u001b[0m\tclient/client.go:667\tWARNING: The client used to connect to Pachyderm is much older than the server; please upgrade the client.\n",
      "Iris-versicolor\n",
      "Iris-virginica\n",
      "Iris-virginica\n",
      "Iris-virginica\n",
      "Iris-setosa\n",
      "Iris-setosa\n"
     ]
    }
   ],
   "source": [
    "!pachctl get file inference@master:2"
   ]
  },
  {
   "cell_type": "code",
   "execution_count": null,
   "id": "2f839431",
   "metadata": {},
   "outputs": [],
   "source": []
  }
 ],
 "metadata": {
  "kernelspec": {
   "display_name": "Python 3 (ipykernel)",
   "language": "python",
   "name": "python3"
  },
  "language_info": {
   "codemirror_mode": {
    "name": "ipython",
    "version": 3
   },
   "file_extension": ".py",
   "mimetype": "text/x-python",
   "name": "python",
   "nbconvert_exporter": "python",
   "pygments_lexer": "ipython3",
   "version": "3.10.12"
  }
 },
 "nbformat": 4,
 "nbformat_minor": 5
}
